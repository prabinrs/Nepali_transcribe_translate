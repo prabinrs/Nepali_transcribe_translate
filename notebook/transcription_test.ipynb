{
  "cells": [
    {
      "cell_type": "markdown",
      "metadata": {
        "id": "view-in-github",
        "colab_type": "text"
      },
      "source": [
        "<a href=\"https://colab.research.google.com/github/prabinrs/Nepali_transcribe_translate/blob/main/notebook/transcription_test.ipynb\" target=\"_parent\"><img src=\"https://colab.research.google.com/assets/colab-badge.svg\" alt=\"Open In Colab\"/></a>"
      ]
    },
    {
      "cell_type": "code",
      "source": [
        "# transcription_test.ipynb\n",
        "import base64\n",
        "import os\n",
        "from llm_service import transcribe_audio_gemini\n",
        "\n"
      ],
      "outputs": [],
      "execution_count": null,
      "metadata": {
        "id": "5WitaYC_TW1n"
      }
    },
    {
      "cell_type": "code",
      "source": [
        "# --- Configuration (replace with your actual key or environment variable) ---\n",
        "# For Jupyter, you can set an environment variable before running.\n",
        "# os.environ[\"GEMINI_API_KEY\"] = \"YOUR_GEMINI_API_KEY_HERE\"\n",
        "GEMINI_API_KEY = os.getenv(\"GEMINI_API_KEY\", \"YOUR_GEMINI_API_KEY_HERE\") # Get from environment or default\n"
      ],
      "metadata": {
        "id": "eA_U3mQGTe3m"
      },
      "execution_count": null,
      "outputs": []
    },
    {
      "cell_type": "code",
      "source": [
        "# --- Prepare Audio Data ---\n",
        "audio_file_path = \"sample_nepali.webm\" # Change this to your test audio file (e.g., sample_nepali.mp3 or sample_nepali.webm)\n",
        "audio_mime_type = \"audio/webm\" # Change this based on your audio file type\n"
      ],
      "metadata": {
        "id": "OBkYQrLQTjgM"
      },
      "execution_count": null,
      "outputs": []
    },
    {
      "cell_type": "code",
      "source": [
        "try:\n",
        "    with open(audio_file_path, \"rb\") as audio_file:\n",
        "        audio_bytes = audio_file.read()\n",
        "    print(f\"Loaded audio file: {audio_file_path}\")\n",
        "\n",
        "    # --- Call the Transcription Service ---\n",
        "    print(\"Calling Gemini for transcription...\")\n",
        "    transcribed_text = transcribe_audio_gemini(audio_bytes, audio_mime_type, GEMINI_API_KEY)\n",
        "\n",
        "    print(\"\\n--- Transcription Result ---\")\n",
        "    print(transcribed_text)\n",
        "\n",
        "except FileNotFoundError:\n",
        "    print(f\"Error: Audio file not found at {audio_file_path}. Please provide a valid path.\")\n",
        "except Exception as e:\n",
        "    print(f\"An error occurred during transcription: {e}\")"
      ],
      "metadata": {
        "id": "Ur3na2ihTnsK"
      },
      "execution_count": null,
      "outputs": []
    }
  ],
  "metadata": {
    "colab": {
      "provenance": [],
      "include_colab_link": true
    },
    "kernelspec": {
      "display_name": "Python 3",
      "name": "python3"
    }
  },
  "nbformat": 4,
  "nbformat_minor": 0
}